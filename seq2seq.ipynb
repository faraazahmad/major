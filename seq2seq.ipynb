{
 "cells": [
  {
   "cell_type": "code",
   "execution_count": 4,
   "metadata": {},
   "outputs": [],
   "source": [
    "import pandas as pd\n",
    "\n",
    "import nltk\n",
    "from nltk.tag import tnt\n",
    "from nltk.corpus import indian"
   ]
  },
  {
   "cell_type": "code",
   "execution_count": 13,
   "metadata": {},
   "outputs": [
    {
     "name": "stderr",
     "output_type": "stream",
     "text": [
      "[nltk_data] Downloading package indian to /home/faraaz/nltk_data...\n",
      "[nltk_data]   Package indian is already up-to-date!\n",
      "[nltk_data] Downloading package punkt to /home/faraaz/nltk_data...\n",
      "[nltk_data]   Package punkt is already up-to-date!\n",
      "[nltk_data] Downloading package averaged_perceptron_tagger to\n",
      "[nltk_data]     /home/faraaz/nltk_data...\n",
      "[nltk_data]   Package averaged_perceptron_tagger is already up-to-\n",
      "[nltk_data]       date!\n"
     ]
    },
    {
     "data": {
      "text/plain": [
       "True"
      ]
     },
     "execution_count": 13,
     "metadata": {},
     "output_type": "execute_result"
    }
   ],
   "source": [
    "nltk.download('indian')\n",
    "nltk.download('punkt')\n",
    "nltk.download('averaged_perceptron_tagger')"
   ]
  },
  {
   "cell_type": "code",
   "execution_count": 16,
   "metadata": {},
   "outputs": [
    {
     "name": "stdout",
     "output_type": "stream",
     "text": [
      "[('Dungarpur', 'NNP'), ('Dungarpur', 'NNP'), ('State', 'NNP'), ('President', 'NNP'), ('of', 'IN'), ('India', 'NNP'), ('Government', 'NNP'), ('of', 'IN'), ('India', 'NNP'), ('United', 'NNP'), ('Nations', 'NNPS'), ('The', 'DT'), ('Hague', 'NNP'), ('University', 'NNP'), ('of', 'IN'), ('Allahabad', 'NNP'), ('Udaipur', 'NNP'), ('University', 'NNP'), ('of', 'IN'), ('Cambridge', 'NNP'), ('Kothari', 'NNP'), ('Commission', 'NNP'), ('University', 'NNP'), ('of', 'IN'), ('Delhi', 'NNP'), ('Padma', 'NNP'), ('Bhushan', 'NNP'), ('India', 'NNP'), ('Indian', 'NNP'), ('National', 'NNP'), ('Science', 'NNP'), ('Academy', 'NNP'), ('Meghnad', 'NNP'), ('Saha', 'NNP'), ('Mewar', 'NNP'), ('Rajasthan', 'NNP'), ('1962', 'CD'), ('Ajmer', 'NNP'), ('Agra', 'NNP'), ('Allahabad', 'NNP'), ('Udaipur', 'NNP'), ('Jagat', 'NNP'), ('Singh', 'NNP'), ('Mehta', 'NNP'), ('Dungarpur', 'NNP'), ('Padma', 'NNP'), ('Vibhushan', 'NNP'), ('Pakistan', 'NNP'), ('Government', 'NNP'), ('of', 'IN'), ('India', 'NNP'), ('Bhilwara', 'NNP'), ('Maharana', 'NNP'), ('Pratap', 'NNP'), ('Mewar', 'NNP'), ('Rajasthan', 'NNP'), ('University', 'NNP'), ('of', 'IN'), ('Rajasthan', 'NNP'), ('Padma', 'NNP'), ('Bhushan', 'NNP'), ('Bijolia', 'NNP'), ('India', 'NNP'), ('Government', 'NNP'), ('of', 'IN'), ('India', 'NNP'), ('Rajasthan', 'NNP'), ('1965', 'CD')]\n"
     ]
    }
   ],
   "source": [
    "parallel_corpus = pd.read_csv('parallel_corpus/batch_1.csv')\n",
    "text = \" \".join([word for word in parallel_corpus['english']])\n",
    "tagged_words = (nltk.pos_tag(nltk.word_tokenize(text)))\n",
    "print(tagged_words)"
   ]
  },
  {
   "cell_type": "code",
   "execution_count": 17,
   "metadata": {},
   "outputs": [
    {
     "data": {
      "text/plain": [
       "[('Dungarpur', 'NNP'),\n",
       " ('Dungarpur State', 'NNP'),\n",
       " ('President of India', 'NNP'),\n",
       " ('Government of India', 'NNP'),\n",
       " ('United Nations', 'NNP'),\n",
       " ('The Hague', 'NNP'),\n",
       " ('University of Allahabad', 'NNP'),\n",
       " ('Udaipur', 'NNP'),\n",
       " ('University of Cambridge', 'NNP'),\n",
       " ('Kothari Commission', 'NNP'),\n",
       " ('University of Delhi', 'NNP'),\n",
       " ('Padma Bhushan', 'NNP'),\n",
       " ('India', 'NNP'),\n",
       " ('Indian National Science Academy', 'NNP'),\n",
       " ('Meghnad Saha', 'NNP'),\n",
       " ('Mewar', 'NNP'),\n",
       " ('Rajasthan', 'NNP'),\n",
       " ('1962', 'CD'),\n",
       " ('Ajmer', 'NNP'),\n",
       " ('Agra', 'NNP'),\n",
       " ('Allahabad', 'NNP'),\n",
       " ('Udaipur', 'NNP'),\n",
       " ('Jagat Singh Mehta', 'NNP'),\n",
       " ('Dungarpur', 'NNP'),\n",
       " ('Padma Vibhushan', 'NNP'),\n",
       " ('Pakistan', 'NNP'),\n",
       " ('Government of India', 'NNP'),\n",
       " ('Bhilwara', 'NNP'),\n",
       " ('Maharana Pratap', 'NNP'),\n",
       " ('Mewar', 'NNP'),\n",
       " ('Rajasthan', 'NNP'),\n",
       " ('University of Rajasthan', 'NNP'),\n",
       " ('Padma Bhushan', 'NNP'),\n",
       " ('Bijolia', 'NNP'),\n",
       " ('India', 'NNP'),\n",
       " ('Government of India', 'NNP'),\n",
       " ('Rajasthan', 'NNP'),\n",
       " ('1965', 'CD')]"
      ]
     },
     "execution_count": 17,
     "metadata": {},
     "output_type": "execute_result"
    }
   ],
   "source": [
    "nltk.pos_tag(parallel_corpus[\"english\"])"
   ]
  },
  {
   "cell_type": "code",
   "execution_count": 18,
   "metadata": {},
   "outputs": [],
   "source": [
    "# train POS tagger on hindi dataset\n",
    "train_data = indian.tagged_sents('hindi.pos')\n",
    "tnt_pos_tagger = tnt.TnT()\n",
    "tnt_pos_tagger.train(train_data)"
   ]
  },
  {
   "cell_type": "code",
   "execution_count": 19,
   "metadata": {},
   "outputs": [
    {
     "data": {
      "text/plain": [
       "[('डूंगरपुर', 'Unk'),\n",
       " ('डूंगरपुर राज्य', 'Unk'),\n",
       " ('भारत के राष्ट्रपति', 'Unk'),\n",
       " ('भारत सरकार', 'Unk'),\n",
       " ('संयुक्त राष्ट्र', 'Unk'),\n",
       " ('हेग', 'Unk'),\n",
       " ('इलाहाबाद विश्वविद्यालय', 'Unk'),\n",
       " ('उदयपुर', 'Unk'),\n",
       " ('कैम्ब्रिज विश्वविद्यालय', 'Unk'),\n",
       " ('कोठारी आयोग', 'Unk'),\n",
       " ('दिल्ली विश्वविद्यालय', 'Unk'),\n",
       " ('पद्म भूषण', 'Unk'),\n",
       " ('भारत', 'NNP'),\n",
       " ('भारतीय राष्ट्रीय विज्ञान अकादमी', 'Unk'),\n",
       " ('मेघनाद साहा', 'Unk'),\n",
       " ('मेवाड़', 'Unk'),\n",
       " ('राजस्थान', 'NNC'),\n",
       " ('१९६२', 'Unk'),\n",
       " ('अजमेर', 'Unk'),\n",
       " ('आगरा', 'Unk'),\n",
       " ('इलाहाबाद', 'Unk'),\n",
       " ('उदयपुर', 'Unk'),\n",
       " ('जगत मेहता', 'Unk'),\n",
       " ('डूंगरपुर', 'Unk'),\n",
       " ('पद्म विभूषण', 'Unk'),\n",
       " ('पाकिस्तान', 'NNP'),\n",
       " ('भारत सरकार', 'Unk'),\n",
       " ('भीलवाड़ा', 'Unk'),\n",
       " ('महाराणा प्रताप', 'Unk'),\n",
       " ('मेवाड़', 'Unk'),\n",
       " ('राजस्थान', 'NNC'),\n",
       " ('राजस्थान विश्वविद्यालय', 'Unk'),\n",
       " ('पद्म भूषण', 'Unk'),\n",
       " ('बिजोलिया', 'Unk'),\n",
       " ('भारत', 'NNP'),\n",
       " ('भारत सरकार', 'Unk'),\n",
       " ('राजस्थान', 'NNC'),\n",
       " ('१९६५', 'Unk')]"
      ]
     },
     "execution_count": 19,
     "metadata": {},
     "output_type": "execute_result"
    }
   ],
   "source": [
    "tnt_pos_tagger.tag(parallel_corpus[\"hindi\"])"
   ]
  }
 ],
 "metadata": {
  "kernelspec": {
   "display_name": "Python 3",
   "language": "python",
   "name": "python3"
  },
  "language_info": {
   "codemirror_mode": {
    "name": "ipython",
    "version": 3
   },
   "file_extension": ".py",
   "mimetype": "text/x-python",
   "name": "python",
   "nbconvert_exporter": "python",
   "pygments_lexer": "ipython3",
   "version": "3.8.1"
  }
 },
 "nbformat": 4,
 "nbformat_minor": 4
}
